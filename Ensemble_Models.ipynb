{
 "cells": [
  {
   "cell_type": "markdown",
   "metadata": {},
   "source": [
    "# Importing Required Libraries"
   ]
  },
  {
   "cell_type": "code",
   "execution_count": 38,
   "metadata": {},
   "outputs": [],
   "source": [
    "import pandas as pd \n",
    "import numpy as np\n",
    "import matplotlib.pyplot as plt\n",
    "import seaborn as sns\n",
    "from xgboost import XGBClassifier\n",
    "from sklearn.metrics import mean_squared_error,mean_absolute_error,r2_score,classification_report,accuracy_score,f1_score,precision_score,confusion_matrix\n",
    "from sklearn.model_selection import GridSearchCV , RandomizedSearchCV\n",
    "from sklearn.ensemble import RandomForestClassifier, BaggingClassifier\n",
    "from sklearn.ensemble import AdaBoostClassifier, GradientBoostingClassifier\n",
    "import lightgbm as lgb\n",
    "import catboost as cb\n",
    "from sklearn.ensemble import StackingClassifier\n",
    "from sklearn.linear_model import LogisticRegression\n",
    "from sklearn.svm import SVC\n",
    "from sklearn.ensemble import VotingClassifier"
   ]
  },
  {
   "cell_type": "markdown",
   "metadata": {},
   "source": [
    "# Converting dataset to train models\n",
    "    since the dataset is already preprocessed,\n",
    "        - I combined X_Train and Y_Train based on ID and droped the ID column because the IDs' are all unique and doestn't contribute except mapping the\n",
    "        - I mapped the attributes to variable X and the target to y\n",
    "        - I just removed the ID column from X_Test and Y_Test, this will not affect the data when testing the model"
   ]
  },
  {
   "cell_type": "code",
   "execution_count": 5,
   "metadata": {},
   "outputs": [],
   "source": [
    "X_test = pd.read_csv(\"Test_20\\\\Test_20\\\\X_Test_Data_Input.csv\")\n",
    "Y_test = pd.read_csv(\"Test_20\\\\Test_20\\\\Y_Test_Data_Target.csv\")\n",
    "X_train = pd.read_csv(\"Train_60\\\\Train_60\\\\X_Train_Data_Input.csv\")\n",
    "Y_train = pd.read_csv(\"Train_60\\\\Train_60\\\\Y_Train_Data_Target.csv\")\n",
    "\n",
    "data = pd.merge(X_train, Y_train, on='ID')\n",
    "\n",
    "data = data.drop(columns=['ID'])\n",
    "\n",
    "X = data.drop(columns=['target'])\n",
    "y = data['target']\n",
    "X_test = X_test.drop(columns=['ID'])\n",
    "Y_test = Y_test.drop(columns=['ID'])"
   ]
  },
  {
   "cell_type": "markdown",
   "metadata": {},
   "source": [
    "### Visualization of dataset"
   ]
  },
  {
   "cell_type": "code",
   "execution_count": 6,
   "metadata": {},
   "outputs": [
    {
     "data": {
      "text/plain": [
       "<Axes: xlabel='target', ylabel='Count'>"
      ]
     },
     "execution_count": 6,
     "metadata": {},
     "output_type": "execute_result"
    },
    {
     "data": {
      "image/png": "[encoded data removed]",
      "text/plain": [
       "<Figure size 640x480 with 1 Axes>"
      ]
     },
     "metadata": {},
     "output_type": "display_data"
    }
   ],
   "source": [
    "sns.histplot(data['target'])"
   ]
  },
  {
   "cell_type": "code",
   "execution_count": 7,
   "metadata": {},
   "outputs": [
    {
     "name": "stdout",
     "output_type": "stream",
     "text": [
      "X train :785133\n",
      "Y train :785133\n",
      "X test :261712\n",
      "Y test :261712\n",
      "\n",
      "y_train:\n",
      "target\n",
      "0    711100\n",
      "1     74033\n",
      "Name: count, dtype: int64\n",
      "\n",
      "y_test:\n",
      "target\n",
      "0    237034\n",
      "1     24678\n",
      "Name: count, dtype: int64\n"
     ]
    }
   ],
   "source": [
    "print(f\"X train :{len(X)}\")\n",
    "print(f\"Y train :{len(y)}\")\n",
    "print(f\"X test :{len(X_test)}\")\n",
    "print(f\"Y test :{len(Y_test)}\")\n",
    "\n",
    "count_train = Y_train['target'].value_counts()\n",
    "\n",
    "count_test = Y_test['target'].value_counts()\n",
    "\n",
    "print(f\"\\ny_train:\\n{count_train}\\n\")\n",
    "print(f\"y_test:\\n{count_test}\")"
   ]
  },
  {
   "cell_type": "markdown",
   "metadata": {},
   "source": [
    "# Ensemble Learning: An Overview\n",
    "\n",
    "Ensemble learning is a powerful technique in machine learning where multiple models, often referred to as \"learners\" or \"weak learners,\" are combined to solve a particular problem. The core idea behind ensemble learning is that by aggregating the predictions of multiple models, the ensemble model can achieve better performance and generalization than any of the individual models alone.\n",
    "\n",
    "Advantages of Ensemble Learning:\n",
    "\n",
    "    1.Improved Accuracy: By combining multiple models, ensemble learning can achieve higher accuracy and robustness than individual models.\n",
    "    2.Reduced Overfitting: Ensembles are less likely to overfit because the variance of the individual models tends to cancel out.\n",
    "    3.Flexibility: Ensembles can combine models of different types, making them flexible and adaptable to various tasks."
   ]
  },
  {
   "cell_type": "markdown",
   "metadata": {},
   "source": [
    "# Machine Learning Models for Classification\n",
    "\n",
    "In this project, we utilized multiple machine learning algorithms to build a robust classification model. The goal was to apply various ensemble techniques to predict the target outcome based on a set of input features.\n",
    "\n",
    "## Models Used:\n",
    "\n",
    "1. **Random Forest**  \n",
    "   - Random Forest is an ensemble learning method that operates by constructing a multitude of decision trees during training. For classification tasks, it outputs the mode of the classes (majority vote).\n",
    "\n",
    "2. **XGBoost (Extreme Gradient Boosting)**  \n",
    "   - XGBoost is an optimized distributed gradient boosting library designed to be highly efficient and flexible. It uses an ensemble of decision trees and enhances performance by focusing on reducing the loss of previously misclassified samples.\n",
    "\n",
    "3. **LightGBM (Light Gradient Boosting Machine)**  \n",
    "   - LightGBM is a gradient boosting framework that uses tree-based learning algorithms. It is designed for performance and efficiency, especially on large datasets. It focuses on leaf-wise growth for faster computation.\n",
    "\n",
    "4. **CatBoost**  \n",
    "   - CatBoost is another gradient boosting algorithm developed by Yandex. It is particularly effective for handling categorical features and achieving fast training with superior accuracy.\n",
    "\n",
    "5. **HistGradientBoostingClassifier**  \n",
    "   - Histogram-based Gradient Boosting is a fast implementation of the Gradient Boosting algorithm that uses histograms to speed up the training process. It is optimized for both numerical stability and computational efficiency."
   ]
  },
  {
   "cell_type": "markdown",
   "metadata": {},
   "source": [
    "## Function Overview\n",
    "\n",
    "The machine learning training functions are designed to perform hyperparameter tuning and model evaluation in a consistent and efficient manner. The core function works as follows:\n",
    "\n",
    "1. **Model Initialization**: Each function begins by initializing the respective machine learning model (e.g., Random Forest, XGBoost, LightGBM, CatBoost, HistGradientBoosting) with predefined parameters like `random_state` to ensure reproducibility.\n",
    "\n",
    "2. **Hyperparameter Grid Definition**: A grid of hyperparameters is defined, covering important parameters like the number of estimators, maximum tree depth, learning rates, and regularization parameters. These grids allow us to search for the best configuration.\n",
    "\n",
    "3. **Grid Search with Cross-Validation**: \n",
    "   - We utilize **GridSearchCV**, which performs an exhaustive search over the specified parameter grid using cross-validation. \n",
    "   - Cross-validation ensures the model is trained and validated on different subsets of the data to avoid overfitting and select robust parameters.\n",
    "\n",
    "4. **Model Training**: The model is trained using the training data (`X_train`, `y_train`). Once the best hyperparameters are identified, the model is retrained using the full training set.\n",
    "\n",
    "5. **Model Evaluation**: After training, the model's performance is evaluated on the test data (`X_test`, `y_test`) using metrics like accuracy. The function prints the best hyperparameters and the test set accuracy.\n",
    "\n",
    "6. **Return**: The function returns the following:\n",
    "   - The best model instance (`best_model`)\n",
    "   - The best hyperparameters (`best_params`)\n",
    "   - The accuracy on the test set (`accuracy`)\n",
    "\n",
    "This function was applied to several ensemble learning algorithms, including Random Forest, XGBoost, LightGBM, CatBoost, and HistGradientBoosting, each with its own set of relevant hyperparameters.\n"
   ]
  },
  {
   "cell_type": "markdown",
   "metadata": {},
   "source": [
    "# Random Forest Algorithm"
   ]
  },
  {
   "cell_type": "code",
   "execution_count": 12,
   "metadata": {},
   "outputs": [],
   "source": [
    "def train_random_forest(X_train, y_train, X_test, y_test):\n",
    "    \n",
    "    rf_model = RandomForestClassifier(random_state=0, class_weight='balanced')\n",
    "\n",
    "    param_grid = {\n",
    "        'n_estimators': [50, 100, 150],\n",
    "        'max_depth': [None, 10, 20],\n",
    "        'min_samples_split': [2, 5, 10],\n",
    "        'min_samples_leaf': [1, 2, 4]\n",
    "    }\n",
    "\n",
    "    grid_search = GridSearchCV(rf_model, param_grid, cv=5, scoring='accuracy')\n",
    "    grid_search.fit(X_train, y_train)\n",
    "\n",
    "\n",
    "    best_rf_model = grid_search.best_estimator_\n",
    "    best_params = grid_search.best_params_\n",
    "\n",
    "    print('Best Hyperparameters:')\n",
    "    print(best_params)\n",
    "\n",
    "    best_rf_model.fit(X_train, y_train)\n",
    "\n",
    "    y_pred = best_rf_model.predict(X_test)\n",
    "    accuracy = accuracy_score(y_test, y_pred)\n",
    "\n",
    "    print(f'Accuracy on Separate Test Set: {accuracy}')\n",
    "\n",
    "    return best_rf_model, best_params, accuracy\n"
   ]
  },
  {
   "cell_type": "code",
   "execution_count": 15,
   "metadata": {},
   "outputs": [
    {
     "name": "stdout",
     "output_type": "stream",
     "text": [
      "Best Hyperparameters:\n",
      "{'max_depth': None, 'min_samples_leaf': 1, 'min_samples_split': 5, 'n_estimators': 100}\n",
      "Accuracy on Separate Test Set: 0.9760538301644556\n"
     ]
    }
   ],
   "source": [
    "randomForest_Model,par,acc = train_random_forest(X_train=X,y_train=y,X_test=X_test,y_test=Y_test)"
   ]
  },
  {
   "cell_type": "code",
   "execution_count": 16,
   "metadata": {},
   "outputs": [
    {
     "data": {
      "text/plain": [
       "['D:\\\\GST\\\\Models\\\\random_forest_model.pkl']"
      ]
     },
     "execution_count": 16,
     "metadata": {},
     "output_type": "execute_result"
    }
   ],
   "source": [
    "import joblib\n",
    "joblib.dump(randomForest_Model, 'Models\\\\random_forest_model.pkl')"
   ]
  },
  {
   "cell_type": "markdown",
   "metadata": {},
   "source": [
    "---\n",
    "\n",
    "# XG Boost Algorithm"
   ]
  },
  {
   "cell_type": "code",
   "execution_count": 17,
   "metadata": {},
   "outputs": [],
   "source": [
    "def train_xgb_classifier(X_train,y_train,X_test,y_test):\n",
    "    \n",
    "    xgb_model = XGBClassifier(random_state=0)\n",
    "\n",
    "    param_grid = {\n",
    "        'n_estimators': [50, 100, 150],\n",
    "        'max_depth': [3, 5, 7],\n",
    "        'learning_rate': [0.01, 0.1, 0.2],\n",
    "        'subsample': [0.8, 1.0],\n",
    "        'colsample_bytree': [0.8, 1.0],\n",
    "        'gamma': [0, 1, 2]\n",
    "    }\n",
    "\n",
    "    grid_search = GridSearchCV(xgb_model, param_grid, cv=5, scoring='accuracy')\n",
    "    grid_search.fit(X_train, y_train)\n",
    "\n",
    "    best_xgb_model = grid_search.best_estimator_\n",
    "    best_params = grid_search.best_params_\n",
    "\n",
    "    print('Best Hyperparameters:')\n",
    "    print(best_params)\n",
    "\n",
    "    best_xgb_model.fit(X_train, y_train)\n",
    "\n",
    "    y_pred = best_xgb_model.predict(X_test)\n",
    "    accuracy = accuracy_score(y_test, y_pred)\n",
    "    print(f'Accuracy on Test Set: {accuracy:.2f}')\n",
    "    \n",
    "    return best_xgb_model, best_params,accuracy"
   ]
  },
  {
   "cell_type": "code",
   "execution_count": 18,
   "metadata": {},
   "outputs": [
    {
     "name": "stdout",
     "output_type": "stream",
     "text": [
      "Best Hyperparameters:\n",
      "{'colsample_bytree': 0.8, 'gamma': 0, 'learning_rate': 0.1, 'max_depth': 7, 'n_estimators': 150, 'subsample': 1.0}\n",
      "Accuracy on Test Set: 0.98\n"
     ]
    }
   ],
   "source": [
    "xgb_model,xgb_param,xgb_acc = train_xgb_classifier(X_train=X,y_train=y,X_test=X_test,y_test=Y_test)"
   ]
  },
  {
   "cell_type": "code",
   "execution_count": 19,
   "metadata": {},
   "outputs": [
    {
     "data": {
      "text/plain": [
       "['D:\\\\GST\\\\Models\\\\xgb_model.pkl']"
      ]
     },
     "execution_count": 19,
     "metadata": {},
     "output_type": "execute_result"
    }
   ],
   "source": [
    "joblib.dump(xgb_model, 'Models\\\\xgb_model.pkl')"
   ]
  },
  {
   "cell_type": "markdown",
   "metadata": {},
   "source": [
    "---\n",
    "\n",
    "# HistGradient Boost Algorithm"
   ]
  },
  {
   "cell_type": "code",
   "execution_count": 23,
   "metadata": {},
   "outputs": [],
   "source": [
    "from sklearn.ensemble import HistGradientBoostingClassifier\n",
    "\n",
    "def train_hist_gradient_boosting_classifier(X_train, y_train, X_test, y_test):\n",
    "    hgb_model = HistGradientBoostingClassifier(random_state=0)\n",
    "    \n",
    "    param_grid = {\n",
    "        'max_iter': [100, 200],\n",
    "        'learning_rate': [0.01, 0.1, 0.2],\n",
    "        'max_depth': [3, 5, 7]\n",
    "    }\n",
    "\n",
    "    grid_search = GridSearchCV(hgb_model, param_grid, cv=5, scoring='accuracy')\n",
    "    grid_search.fit(X_train, y_train)\n",
    "\n",
    "    best_hgb_model = grid_search.best_estimator_\n",
    "    best_params = grid_search.best_params_\n",
    "\n",
    "    print('Best Hyperparameters:')\n",
    "    print(best_params)\n",
    "\n",
    "    y_pred = best_hgb_model.predict(X_test)\n",
    "    accuracy = accuracy_score(y_test, y_pred)\n",
    "    print(f'Accuracy on Test Set: {accuracy:.2f}')\n",
    "    \n",
    "    return best_hgb_model, best_params, accuracy\n"
   ]
  },
  {
   "cell_type": "code",
   "execution_count": 24,
   "metadata": {},
   "outputs": [
    {
     "name": "stdout",
     "output_type": "stream",
     "text": [
      "Best Hyperparameters:\n",
      "{'learning_rate': 0.1, 'max_depth': 7, 'max_iter': 200}\n",
      "Accuracy on Test Set: 0.98\n"
     ]
    }
   ],
   "source": [
    "hist_Boost_Model , ada_Params , Ada_acc = train_hist_gradient_boosting_classifier(X_train=X,y_train=y,X_test=X_test,y_test=Y_test)"
   ]
  },
  {
   "cell_type": "code",
   "execution_count": 25,
   "metadata": {},
   "outputs": [
    {
     "data": {
      "text/plain": [
       "['D:\\\\GST\\\\Models\\\\hist_Boost_Model.pkl']"
      ]
     },
     "execution_count": 25,
     "metadata": {},
     "output_type": "execute_result"
    }
   ],
   "source": [
    "joblib.dump(hist_Boost_Model, 'Models\\\\hist_Boost_Model.pkl')"
   ]
  },
  {
   "cell_type": "markdown",
   "metadata": {},
   "source": [
    "---\n",
    "\n",
    "# Light Gradient Boost Algorithm"
   ]
  },
  {
   "cell_type": "code",
   "execution_count": 28,
   "metadata": {},
   "outputs": [],
   "source": [
    "def train_lgb_classifier(X_train=X, y_train=y, X_test=X_test, y_test=Y_test):\n",
    "    \n",
    "    lgb_model = lgb.LGBMClassifier(random_state=0)\n",
    "\n",
    "    param_grid = {\n",
    "        'n_estimators': [50, 100, 150],\n",
    "        'max_depth': [3, 5, 7],\n",
    "        'learning_rate': [0.01, 0.1, 0.2],\n",
    "        'subsample': [0.8, 1.0],\n",
    "        'colsample_bytree': [0.8, 1.0]\n",
    "    }\n",
    "\n",
    "    grid_search = GridSearchCV(lgb_model, param_grid, cv=5, scoring='accuracy')\n",
    "    grid_search.fit(X_train, y_train)\n",
    "\n",
    "    best_lgb_model = grid_search.best_estimator_\n",
    "    best_params = grid_search.best_params_\n",
    "\n",
    "    print('Best Hyperparameters:')\n",
    "    print(best_params)\n",
    "\n",
    "    best_lgb_model.fit(X_train, y_train)\n",
    "\n",
    "    y_pred = best_lgb_model.predict(X_test)\n",
    "    accuracy = accuracy_score(y_test, y_pred)\n",
    "    print(f'Accuracy on Test Set: {accuracy:.2f}')\n",
    "    \n",
    "    return best_lgb_model, best_params, accuracy\n"
   ]
  },
  {
   "cell_type": "code",
   "execution_count": null,
   "metadata": {},
   "outputs": [],
   "source": [
    "lgb_model , lgb_param , lgb_acc = train_lgb_classifier()"
   ]
  },
  {
   "cell_type": "code",
   "execution_count": 30,
   "metadata": {},
   "outputs": [
    {
     "data": {
      "text/plain": [
       "['D:\\\\GST\\\\Models\\\\lgb_model.pkl']"
      ]
     },
     "execution_count": 30,
     "metadata": {},
     "output_type": "execute_result"
    }
   ],
   "source": [
    "joblib.dump(lgb_model, 'Models\\\\lgb_model.pkl')"
   ]
  },
  {
   "cell_type": "markdown",
   "metadata": {},
   "source": [
    "---\n",
    "\n",
    "# Cat Boost Algorithm"
   ]
  },
  {
   "cell_type": "code",
   "execution_count": 31,
   "metadata": {},
   "outputs": [],
   "source": [
    "def train_cb_classifier(X_train=X, y_train=y, X_test=X_test, y_test=Y_test):\n",
    "    \n",
    "    cb_model = cb.CatBoostClassifier(random_state=0, verbose=0)  \n",
    "\n",
    "    param_grid = {\n",
    "        'iterations': [50, 100, 150],\n",
    "        'depth': [3, 5, 7],\n",
    "        'learning_rate': [0.01, 0.1, 0.2],\n",
    "        'subsample': [0.8, 1.0]\n",
    "    }\n",
    "\n",
    "    grid_search = GridSearchCV(cb_model, param_grid, cv=5, scoring='accuracy')\n",
    "    grid_search.fit(X_train, y_train)\n",
    "\n",
    "    best_cb_model = grid_search.best_estimator_\n",
    "    best_params = grid_search.best_params_\n",
    "\n",
    "    print('Best Hyperparameters:')\n",
    "    print(best_params)\n",
    "\n",
    "    best_cb_model.fit(X_train, y_train)\n",
    "\n",
    "    y_pred = best_cb_model.predict(X_test)\n",
    "    accuracy = accuracy_score(y_test, y_pred)\n",
    "    print(f'Accuracy on Test Set: {accuracy:.2f}')\n",
    "    \n",
    "    return best_cb_model, best_params, accuracy\n"
   ]
  },
  {
   "cell_type": "code",
   "execution_count": 32,
   "metadata": {},
   "outputs": [
    {
     "name": "stdout",
     "output_type": "stream",
     "text": [
      "Best Hyperparameters:\n",
      "{'depth': 7, 'iterations': 150, 'learning_rate': 0.2, 'subsample': 0.8}\n",
      "Accuracy on Test Set: 0.98\n"
     ]
    }
   ],
   "source": [
    "cb_model , cb_params ,cb_acc = train_cb_classifier()"
   ]
  },
  {
   "cell_type": "code",
   "execution_count": 33,
   "metadata": {},
   "outputs": [
    {
     "data": {
      "text/plain": [
       "['D:\\\\GST\\\\Models\\\\cb_model.pkl']"
      ]
     },
     "execution_count": 33,
     "metadata": {},
     "output_type": "execute_result"
    }
   ],
   "source": [
    "joblib.dump(cb_model, 'Models\\\\cb_model.pkl')"
   ]
  }
 ],
 "metadata": {
  "kernelspec": {
   "display_name": "tf",
   "language": "python",
   "name": "python3"
  },
  "language_info": {
   "codemirror_mode": {
    "name": "ipython",
    "version": 3
   },
   "file_extension": ".py",
   "mimetype": "text/x-python",
   "name": "python",
   "nbconvert_exporter": "python",
   "pygments_lexer": "ipython3",
   "version": "3.12.2"
  }
 },
 "nbformat": 4,
 "nbformat_minor": 2
}
